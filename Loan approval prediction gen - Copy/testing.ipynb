{
 "cells": [
  {
   "cell_type": "code",
   "execution_count": 1,
   "metadata": {},
   "outputs": [
    {
     "name": "stdout",
     "output_type": "stream",
     "text": [
      "Features sorted by importance:\n",
      "cibil_score: 0.826725749058443\n",
      "loan_term: 0.07842344837995976\n",
      "income_annum: 0.03739494823310724\n",
      "loan_amount: 0.036931774654847836\n",
      "immovable_assets: 0.010672977992725081\n",
      "movable_assets: 0.007850497640218683\n",
      "no_of_dependents: 0.002000604040698379\n",
      "education: 0.0\n",
      "self_employed: 0.0\n"
     ]
    }
   ],
   "source": [
    "import pickle\n",
    "\n",
    "# Load the trained decision tree model\n",
    "with open('decisionTreeModel.sav', 'rb') as model_file:\n",
    "    decision_tree_model = pickle.load(model_file)\n",
    "\n",
    "# Get feature importances\n",
    "feature_importances = decision_tree_model.feature_importances_\n",
    "\n",
    "# Assuming you have access to the original feature names used during training\n",
    "# You can zip them together with their importances and sort them by importance\n",
    "feature_names = ['no_of_dependents', 'education', 'self_employed', 'income_annum', 'loan_amount', 'loan_term', 'cibil_score', 'movable_assets', 'immovable_assets']\n",
    "feature_importances_dict = dict(zip(feature_names, feature_importances))\n",
    "sorted_features = sorted(feature_importances_dict.items(), key=lambda x: x[1], reverse=True)\n",
    "\n",
    "# Print the features sorted by importance\n",
    "print(\"Features sorted by importance:\")\n",
    "for feature, importance in sorted_features:\n",
    "    print(f\"{feature}: {importance}\")\n"
   ]
  },
  {
   "cell_type": "code",
   "execution_count": null,
   "metadata": {},
   "outputs": [],
   "source": []
  }
 ],
 "metadata": {
  "kernelspec": {
   "display_name": "Python 3",
   "language": "python",
   "name": "python3"
  },
  "language_info": {
   "codemirror_mode": {
    "name": "ipython",
    "version": 3
   },
   "file_extension": ".py",
   "mimetype": "text/x-python",
   "name": "python",
   "nbconvert_exporter": "python",
   "pygments_lexer": "ipython3",
   "version": "3.10.1"
  }
 },
 "nbformat": 4,
 "nbformat_minor": 2
}
